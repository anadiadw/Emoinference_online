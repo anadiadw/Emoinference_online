{
 "cells": [
  {
   "cell_type": "markdown",
   "metadata": {},
   "source": [
    "# run first"
   ]
  },
  {
   "cell_type": "code",
   "execution_count": 1,
   "metadata": {},
   "outputs": [],
   "source": [
    "import pandas as pd\n",
    "import numpy as np\n",
    "import os\n",
    "from os import listdir\n",
    "import glob\n",
    "from os.path import isfile, join\n",
    "import shutil\n",
    "import PIL\n",
    "from PIL import Image\n",
    "import random"
   ]
  },
  {
   "cell_type": "markdown",
   "metadata": {},
   "source": [
    "### Nimstim"
   ]
  },
  {
   "cell_type": "code",
   "execution_count": 2,
   "metadata": {},
   "outputs": [],
   "source": [
    "facefolder = 'C:/Users/ayesh/Desktop/Gradstuff/contingentproject/NimStim Face Set/'\n",
    "## from NimStim face set:\n",
    "facefiles = [f for f in listdir(facefolder) if isfile(join(facefolder, f))]\n",
    "\n",
    "female_faces = []\n",
    "male_faces = []\n",
    "for a in facefiles:\n",
    "    if a[2]==\"F\" or a[2]==\"f\":\n",
    "        female_faces.append(a)\n",
    "    if a[2]== \"M\" or a[2]==\"m\":\n",
    "        male_faces.append(a)"
   ]
  },
  {
   "cell_type": "code",
   "execution_count": 3,
   "metadata": {},
   "outputs": [],
   "source": [
    "## further sort the neutral and fearful emotion faces for each gender:\n",
    "female_fear_faces = []\n",
    "male_fear_faces = []\n",
    "female_neutral_faces = []\n",
    "male_neutral_faces = []\n",
    "female_angry_faces = []\n",
    "male_angry_faces = []\n",
    "for a in female_faces:\n",
    "    if (a[4:6]==\"FE\" or a[2]==\"fe\"):\n",
    "        female_fear_faces.append(a)\n",
    "    if (a[4:6]==\"NE\" or a[2]==\"ne\"):\n",
    "        female_neutral_faces.append(a)\n",
    "    if (a[4:6]==\"AN\" or a[2]==\"an\"):\n",
    "        female_angry_faces.append(a)\n",
    "for a in male_faces:\n",
    "    if (a[4:6]==\"FE\" or a[2]==\"fe\"):\n",
    "        male_fear_faces.append(a)\n",
    "    if (a[4:6]==\"NE\" or a[2]==\"ne\"):\n",
    "        male_neutral_faces.append(a)\n",
    "    if (a[4:6]==\"AN\" or a[2]==\"an\"):\n",
    "        male_angry_faces.append(a)"
   ]
  },
  {
   "cell_type": "code",
   "execution_count": 4,
   "metadata": {},
   "outputs": [
    {
     "data": {
      "text/plain": [
       "48"
      ]
     },
     "execution_count": 4,
     "metadata": {},
     "output_type": "execute_result"
    }
   ],
   "source": [
    "len(male_angry_faces)"
   ]
  },
  {
   "cell_type": "code",
   "execution_count": 5,
   "metadata": {},
   "outputs": [],
   "source": [
    "mypath = \"C:/Users/ayesh/Desktop/Gradstuff/contingentproject/NimStim Face Set/\"\n",
    "\n",
    "onlyfiles = [f for f in listdir(mypath) if isfile(join(mypath, f))]"
   ]
  },
  {
   "cell_type": "code",
   "execution_count": 7,
   "metadata": {},
   "outputs": [],
   "source": [
    "f_src_dir = \"C:/Users/ayesh/Desktop/Gradstuff/contingentproject/mem-gen_study/sorted_facestims/f_angry/\"\n",
    "m_src_dir = \"C:/Users/ayesh/Desktop/Gradstuff/contingentproject/mem-gen_study/sorted_facestims/m_angry/\"\n",
    "\n",
    "for a in onlyfiles:\n",
    "    if a in female_angry_faces:\n",
    "        stimsrc = os.path.join(mypath, a)\n",
    "        shutil.copy(stimsrc, f_src_dir)\n",
    "    if a in male_angry_faces:\n",
    "        stimsrc = os.path.join(mypath, a)\n",
    "        shutil.copy(stimsrc, m_src_dir)"
   ]
  },
  {
   "cell_type": "code",
   "execution_count": 8,
   "metadata": {},
   "outputs": [],
   "source": [
    "\n",
    "n_src_dir = \"C:/Users/ayesh/Desktop/Gradstuff/contingentproject/mem-gen_study/sorted_facestims/m_neutral/\"\n",
    "e_src_dir = \"C:/Users/ayesh/Desktop/Gradstuff/contingentproject/mem-gen_study/sorted_facestims/m_fear/\"\n",
    "object_src_dir = \"C:/Users/ayesh/Desktop/Gradstuff/online_project/expstims/best256/\"\n",
    "\n",
    "neutral_male_face = [f for f in listdir(n_src_dir) if isfile(join(n_src_dir, f))]\n",
    "emotional_male_face = [f for f in listdir(e_src_dir) if isfile(join(e_src_dir, f))]\n",
    "objectA = [f for f in listdir(object_src_dir) if isfile(join(object_src_dir, f))]\n",
    "objectC = [f for f in listdir(object_src_dir) if isfile(join(object_src_dir, f))]\n",
    "\n",
    "# print all stimuli to a csv\n",
    "neutral_facedf = pd.DataFrame(neutral_male_face, columns=[\"neutral_face\"])\n",
    "neutral_facedf.to_csv('neutralFace.csv', index=False)\n",
    "\n",
    "emotional_facedf = pd.DataFrame(emotional_male_face, columns=[\"emotional_face\"])\n",
    "emotional_facedf.to_csv('emotional_face.csv', index=False)\n",
    "\n",
    "object_df = pd.DataFrame({'ObjectA': objectA, 'ObjectC': objectC})\n",
    "object_df.to_csv('psychopy_object_df.csv')\n",
    "\n"
   ]
  },
  {
   "cell_type": "code",
   "execution_count": 23,
   "metadata": {},
   "outputs": [],
   "source": [
    "## resize ## for checking image size/dimensions\n",
    "image_dir = '/Users/ayesh/Desktop/pavlovia_exp/new/f_fear/'\n",
    "image_list = os.listdir(image_dir)\n",
    "printed_list = []\n",
    "for a in image_list:\n",
    "    im = Image.open (image_dir + a)\n",
    "    a_resized = im.resize((506, 650), Image.ANTIALIAS)\n",
    "    a_resized.save(image_dir + a, \"JPEG\", optimize=True)\n",
    "    a_size = a_resized.size, a\n",
    "    printed_list.append(a_size)"
   ]
  },
  {
   "cell_type": "code",
   "execution_count": 24,
   "metadata": {},
   "outputs": [
    {
     "data": {
      "text/plain": [
       "[((506, 650), '01F_FE_O.bmp'),\n",
       " ((506, 650), '02F_FE_O.bmp'),\n",
       " ((506, 650), '03F_FE_O.bmp'),\n",
       " ((506, 650), '05F_FE_O.bmp'),\n",
       " ((506, 650), '06F_FE_O.bmp'),\n",
       " ((506, 650), '07F_FE_O.BMP'),\n",
       " ((506, 650), '08F_FE_O.BMP'),\n",
       " ((506, 650), '09F_FE_O.BMP'),\n",
       " ((506, 650), '10F_FE_O.BMP')]"
      ]
     },
     "execution_count": 24,
     "metadata": {},
     "output_type": "execute_result"
    }
   ],
   "source": [
    "printed_list"
   ]
  },
  {
   "cell_type": "code",
   "execution_count": 27,
   "metadata": {},
   "outputs": [
    {
     "data": {
      "text/plain": [
       "'F'"
      ]
     },
     "execution_count": 27,
     "metadata": {},
     "output_type": "execute_result"
    }
   ],
   "source": [
    "a = image_list[1]\n",
    "a[2]"
   ]
  },
  {
   "cell_type": "markdown",
   "metadata": {},
   "source": [
    "### CFD"
   ]
  },
  {
   "cell_type": "code",
   "execution_count": 2,
   "metadata": {},
   "outputs": [],
   "source": [
    "facefolder = 'C:/Users/ayesh/Desktop/Gradstuff/contingentproject/cfd/CFD Version 3.0/Images/CFD/'\n",
    "facesubfolders = [x[0] for x in os.walk(facefolder)]\n",
    "subfolders = []\n",
    "for a in facesubfolders:\n",
    "    ethinicity = a[-6]\n",
    "    if ethinicity == 'W':\n",
    "        subfolders.append(a)\n",
    "        \n",
    "emo_females = []\n",
    "neu_females = []\n",
    "emo_males = []\n",
    "neu_males = []\n",
    "happy_males = []\n",
    "happy_females = []\n",
    "for b in subfolders:\n",
    "    files = [f for f in listdir(b) if isfile(join(b, f))]\n",
    "    for c in files:\n",
    "        emotion = c[-5]\n",
    "        gender = c[5]\n",
    "        happy = c[-6]\n",
    "        if emotion == 'F' and gender == 'M':\n",
    "            emo_males.append(b + '/' + c)\n",
    "        if emotion == 'F' and gender == 'F':\n",
    "            emo_females.append(b + '/' + c)\n",
    "        if emotion == 'N' and gender == 'M':\n",
    "            neu_males.append(b + '/' + c)\n",
    "        if emotion == 'N' and gender == 'F':\n",
    "            neu_females.append(b + '/' + c)\n",
    "        if happy == 'H' and gender == 'M':\n",
    "            happy_males.append(b + '/' + c)\n",
    "        if happy == 'H' and gender == 'F':\n",
    "            happy_females.append(b + '/' + c)"
   ]
  },
  {
   "cell_type": "code",
   "execution_count": 3,
   "metadata": {},
   "outputs": [],
   "source": [
    "emo_f_folder = \"C:/Users/ayesh/Desktop/Gradstuff/contingentproject/mem-gen_study/cfd_sorted/fear_females/\"\n",
    "emo_m_folder = \"C:/Users/ayesh/Desktop/Gradstuff/contingentproject/mem-gen_study/cfd_sorted/fear_males/\"\n",
    "neu_f_folder = \"C:/Users/ayesh/Desktop/Gradstuff/contingentproject/mem-gen_study/cfd_sorted/neu_females/\"\n",
    "neu_m_folder = \"C:/Users/ayesh/Desktop/Gradstuff/contingentproject/mem-gen_study/cfd_sorted/neu_males/\"\n",
    "happy_f_folder = \"C:/Users/ayesh/Desktop/Gradstuff/contingentproject/mem-gen_study/cfd_sorted/happy_females/\"\n",
    "happy_m_folder = \"C:/Users/ayesh/Desktop/Gradstuff/contingentproject/mem-gen_study/cfd_sorted/happy_males/\"\n",
    "#for d in emo_females:\n",
    " #   shutil.copy(d, emo_f_folder)\n",
    "#for e in emo_males:\n",
    " #   shutil.copy(e, emo_m_folder)\n",
    "for f in happy_females:\n",
    "    shutil.copy(f, happy_f_folder)\n",
    "for g in happy_males:\n",
    "    shutil.copy(g, happy_m_folder)"
   ]
  },
  {
   "cell_type": "code",
   "execution_count": 8,
   "metadata": {},
   "outputs": [
    {
     "name": "stdout",
     "output_type": "stream",
     "text": [
      "[0, 1, 2, 3, 4, 5, 6, 7, 8, 9, 10, 11, 12, 13, 14, 15, 16, 17, 18, 19, 20, 21, 22, 23, 24, 25, 26, 27, 28, 29, 30, 31, 32, 33, 34, 35, 36, 37, 38, 39, 40, 41, 42, 43, 44, 45, 46, 47, 48, 49, 50, 51, 52, 53, 54, 55, 56, 57, 58, 59, 60, 61, 62, 63, 64, 65, 66, 67, 68, 69, 70, 71, 72, 73, 74, 75, 76, 77, 78, 79, 80, 81, 82, 83, 84, 85, 86, 87, 88, 89, 90, 91, 92, 93, 94, 95]\n"
     ]
    }
   ],
   "source": [
    "a = (range(96))\n",
    "#b = a[96:]\n",
    "#len(b)\n",
    "print(list(a))\n"
   ]
  },
  {
   "cell_type": "code",
   "execution_count": 5,
   "metadata": {},
   "outputs": [],
   "source": [
    "\n",
    "left = 553\n",
    "top = 0\n",
    "right = 1891\n",
    "bottom = 1718\n",
    " \n",
    "## resize ## for checking image size/dimensions\n",
    "image_dir = '/Users/ayesh/Documents/modified_emoinference-happy/m_happy/'\n",
    "image_list = os.listdir(image_dir)\n",
    "printed_list = []\n",
    "for a in image_list:\n",
    "    im = Image.open (image_dir + a)\n",
    "    im = im.crop((left, top, right, bottom)) \n",
    "    a_resized = im.resize((506, 650), Image.ANTIALIAS)\n",
    "    a_resized.save(image_dir + a, \"JPEG\", optimize=True)\n",
    "    a_size = a_resized.size, a\n",
    "    printed_list.append(a_size)"
   ]
  },
  {
   "cell_type": "markdown",
   "metadata": {},
   "source": [
    "## Actual Exp Stims"
   ]
  },
  {
   "cell_type": "code",
   "execution_count": 10,
   "metadata": {},
   "outputs": [
    {
     "data": {
      "text/plain": [
       "24"
      ]
     },
     "execution_count": 10,
     "metadata": {},
     "output_type": "execute_result"
    }
   ],
   "source": [
    "Eface_females =  '/Users/ayesh/Documents/modified_emoinference3/f_fear/'\n",
    "Nface_females = '/Users/ayesh/Documents/modified_emoinference3/f_neutral/'\n",
    "Hface_females = '/Users/ayesh/Documents/modified_emoinference-happy/f_happy/'\n",
    "Hface_males = '/Users/ayesh/Documents/modified_emoinference-happy/m_happy/'\n",
    "Eface_males =  '/Users/ayesh/Documents/modified_emoinference3/m_fear/'\n",
    "Nface_males = '/Users/ayesh/Documents/modified_emoinference3/m_neutral/'\n",
    "Object_csv = '/Users/ayesh/Desktop/Gradstuff/contingentproject/mem-gen_study/memgen_images_blocks/pavlovia_exp/object_stims/'\n",
    "\n",
    "Eface_f_files = [f for f in listdir(Eface_females) if isfile(join(Eface_females, f))]\n",
    "Hface_m_files = [f for f in listdir(Hface_males) if isfile(join(Hface_males, f))]\n",
    "Hface_f_files = [f for f in listdir(Hface_females) if isfile(join(Hface_females, f))]\n",
    "Nface_f_files = [f for f in listdir(Nface_females) if isfile(join(Nface_females, f))]\n",
    "Eface_m_files = [f for f in listdir(Eface_males) if isfile(join(Eface_males, f))]\n",
    "Nface_m_files = [f for f in listdir(Nface_males) if isfile(join(Nface_males, f))]\n",
    "#Object_files = [f for f in listdir(Object_csv) if isfile(join(Object_csv, f))]\n",
    "\n",
    "E_f_list = []\n",
    "N_f_list = []\n",
    "E_m_list = []\n",
    "N_m_list = []\n",
    "H_f_list = []\n",
    "H_m_list = []\n",
    "Olist = []\n",
    "\n",
    "for i in Hface_f_files:\n",
    "    H_f_list.append('f_happy/' + i)\n",
    "len(H_f_list)"
   ]
  },
  {
   "cell_type": "markdown",
   "metadata": {},
   "source": [
    "## psychopy- JUNK"
   ]
  },
  {
   "cell_type": "code",
   "execution_count": 31,
   "metadata": {},
   "outputs": [],
   "source": [
    "ls=[]\n",
    "a = ['with', 'xoxo', 'yup', 'zen']\n",
    "b = ['aloo', 'beta', 'cat', 'doink']\n",
    "for i in range(3):\n",
    "    pair = [a[i], b[i]]\n",
    "    ls.append(pair)"
   ]
  },
  {
   "cell_type": "code",
   "execution_count": 33,
   "metadata": {},
   "outputs": [
    {
     "name": "stdout",
     "output_type": "stream",
     "text": [
      "cat\n"
     ]
    }
   ],
   "source": [
    "fc = ls[i][0]\n",
    "ob = ls[i][1]\n",
    "print (ob)"
   ]
  },
  {
   "cell_type": "code",
   "execution_count": 47,
   "metadata": {},
   "outputs": [
    {
     "name": "stdout",
     "output_type": "stream",
     "text": [
      "[3, 4, 2, 1, 0, 5]\n"
     ]
    }
   ],
   "source": [
    "randord = list(range(0, 6))\n",
    "let = ['a', 'b', 'c', 'd', 'e', 'f']\n",
    "random.shuffle(randord)\n",
    "print(randord)"
   ]
  },
  {
   "cell_type": "code",
   "execution_count": 48,
   "metadata": {},
   "outputs": [
    {
     "name": "stdout",
     "output_type": "stream",
     "text": [
      "d\n",
      "1\n"
     ]
    }
   ],
   "source": [
    "ii = 0\n",
    "pair= let[randord[ii]]\n",
    "print(pair)\n",
    "ii = ii + 1\n",
    "print(ii)"
   ]
  },
  {
   "cell_type": "code",
   "execution_count": 23,
   "metadata": {},
   "outputs": [
    {
     "ename": "ValueError",
     "evalue": "Cannot mask with non-boolean array containing NA / NaN values",
     "output_type": "error",
     "traceback": [
      "\u001b[1;31m---------------------------------------------------------------------------\u001b[0m",
      "\u001b[1;31mValueError\u001b[0m                                Traceback (most recent call last)",
      "\u001b[1;32m<ipython-input-23-b0a2288f4495>\u001b[0m in \u001b[0;36m<module>\u001b[1;34m\u001b[0m\n\u001b[0;32m      5\u001b[0m \u001b[0mpic\u001b[0m \u001b[1;33m=\u001b[0m \u001b[0mfacedir\u001b[0m\u001b[1;33m.\u001b[0m\u001b[0mfile\u001b[0m\u001b[1;33m\u001b[0m\u001b[1;33m\u001b[0m\u001b[0m\n\u001b[0;32m      6\u001b[0m \u001b[1;32mfor\u001b[0m \u001b[0mindex\u001b[0m\u001b[1;33m,\u001b[0m \u001b[0mrow\u001b[0m \u001b[1;32min\u001b[0m \u001b[0mfacedir\u001b[0m\u001b[1;33m.\u001b[0m\u001b[0miterrows\u001b[0m\u001b[1;33m(\u001b[0m\u001b[1;33m)\u001b[0m\u001b[1;33m:\u001b[0m\u001b[1;33m\u001b[0m\u001b[1;33m\u001b[0m\u001b[0m\n\u001b[1;32m----> 7\u001b[1;33m     \u001b[0mtest1_face_image\u001b[0m \u001b[1;33m=\u001b[0m \u001b[0mpic\u001b[0m\u001b[1;33m[\u001b[0m\u001b[0mrow\u001b[0m\u001b[1;33m]\u001b[0m\u001b[1;33m\u001b[0m\u001b[1;33m\u001b[0m\u001b[0m\n\u001b[0m\u001b[0;32m      8\u001b[0m \u001b[1;33m\u001b[0m\u001b[0m\n\u001b[0;32m      9\u001b[0m \u001b[0mneufaceList\u001b[0m \u001b[1;33m=\u001b[0m \u001b[0mneudir\u001b[0m\u001b[1;33m.\u001b[0m\u001b[0mneu_faces\u001b[0m\u001b[1;33m\u001b[0m\u001b[1;33m\u001b[0m\u001b[0m\n",
      "\u001b[1;32m~\\Anaconda3\\lib\\site-packages\\pandas\\core\\series.py\u001b[0m in \u001b[0;36m__getitem__\u001b[1;34m(self, key)\u001b[0m\n\u001b[0;32m    899\u001b[0m             \u001b[0mkey\u001b[0m \u001b[1;33m=\u001b[0m \u001b[0mlist\u001b[0m\u001b[1;33m(\u001b[0m\u001b[0mkey\u001b[0m\u001b[1;33m)\u001b[0m\u001b[1;33m\u001b[0m\u001b[1;33m\u001b[0m\u001b[0m\n\u001b[0;32m    900\u001b[0m \u001b[1;33m\u001b[0m\u001b[0m\n\u001b[1;32m--> 901\u001b[1;33m         \u001b[1;32mif\u001b[0m \u001b[0mcom\u001b[0m\u001b[1;33m.\u001b[0m\u001b[0mis_bool_indexer\u001b[0m\u001b[1;33m(\u001b[0m\u001b[0mkey\u001b[0m\u001b[1;33m)\u001b[0m\u001b[1;33m:\u001b[0m\u001b[1;33m\u001b[0m\u001b[1;33m\u001b[0m\u001b[0m\n\u001b[0m\u001b[0;32m    902\u001b[0m             \u001b[0mkey\u001b[0m \u001b[1;33m=\u001b[0m \u001b[0mcheck_bool_indexer\u001b[0m\u001b[1;33m(\u001b[0m\u001b[0mself\u001b[0m\u001b[1;33m.\u001b[0m\u001b[0mindex\u001b[0m\u001b[1;33m,\u001b[0m \u001b[0mkey\u001b[0m\u001b[1;33m)\u001b[0m\u001b[1;33m\u001b[0m\u001b[1;33m\u001b[0m\u001b[0m\n\u001b[0;32m    903\u001b[0m             \u001b[0mkey\u001b[0m \u001b[1;33m=\u001b[0m \u001b[0mnp\u001b[0m\u001b[1;33m.\u001b[0m\u001b[0masarray\u001b[0m\u001b[1;33m(\u001b[0m\u001b[0mkey\u001b[0m\u001b[1;33m,\u001b[0m \u001b[0mdtype\u001b[0m\u001b[1;33m=\u001b[0m\u001b[0mbool\u001b[0m\u001b[1;33m)\u001b[0m\u001b[1;33m\u001b[0m\u001b[1;33m\u001b[0m\u001b[0m\n",
      "\u001b[1;32m~\\Anaconda3\\lib\\site-packages\\pandas\\core\\common.py\u001b[0m in \u001b[0;36mis_bool_indexer\u001b[1;34m(key)\u001b[0m\n\u001b[0;32m    132\u001b[0m                 \u001b[0mna_msg\u001b[0m \u001b[1;33m=\u001b[0m \u001b[1;34m\"Cannot mask with non-boolean array containing NA / NaN values\"\u001b[0m\u001b[1;33m\u001b[0m\u001b[1;33m\u001b[0m\u001b[0m\n\u001b[0;32m    133\u001b[0m                 \u001b[1;32mif\u001b[0m \u001b[0misna\u001b[0m\u001b[1;33m(\u001b[0m\u001b[0mkey\u001b[0m\u001b[1;33m)\u001b[0m\u001b[1;33m.\u001b[0m\u001b[0many\u001b[0m\u001b[1;33m(\u001b[0m\u001b[1;33m)\u001b[0m\u001b[1;33m:\u001b[0m\u001b[1;33m\u001b[0m\u001b[1;33m\u001b[0m\u001b[0m\n\u001b[1;32m--> 134\u001b[1;33m                     \u001b[1;32mraise\u001b[0m \u001b[0mValueError\u001b[0m\u001b[1;33m(\u001b[0m\u001b[0mna_msg\u001b[0m\u001b[1;33m)\u001b[0m\u001b[1;33m\u001b[0m\u001b[1;33m\u001b[0m\u001b[0m\n\u001b[0m\u001b[0;32m    135\u001b[0m                 \u001b[1;32mreturn\u001b[0m \u001b[1;32mFalse\u001b[0m\u001b[1;33m\u001b[0m\u001b[1;33m\u001b[0m\u001b[0m\n\u001b[0;32m    136\u001b[0m             \u001b[1;32mreturn\u001b[0m \u001b[1;32mTrue\u001b[0m\u001b[1;33m\u001b[0m\u001b[1;33m\u001b[0m\u001b[0m\n",
      "\u001b[1;31mValueError\u001b[0m: Cannot mask with non-boolean array containing NA / NaN values"
     ]
    }
   ],
   "source": [
    "facedir = pd.read_csv('/Users/ayesh/Desktop/Gradstuff/contingentproject/mem-gen_study/memgen_images_blocks/neutralBlock.csv')\n",
    "neudir = pd.read_csv('/Users/ayesh/Desktop/Gradstuff/contingentproject/mem-gen_study/memgen_images_blocks/neu_code.csv')\n",
    "emodir = pd.read_csv('/Users/ayesh/Desktop/Gradstuff/contingentproject/mem-gen_study/memgen_images_blocks/emo_code.csv')\n",
    "\n",
    "pic = facedir.file\n",
    "for index, row in facedir.iterrows():\n",
    "    test1_face_image = pic[row]\n",
    "    \n",
    "neufaceList = neudir.neu_faces\n",
    "emofaceList = emodir.emo_faces\n",
    "model = (ex[-12:-9])\n",
    "val = (ex[-8:-6])\n",
    "print (model, val)\n",
    "\n",
    "if val == 'NE':\n",
    "    pickfrm = neufaceList\n",
    "if val == 'FE':\n",
    "    pickfrm = emofaceList\n",
    "\n",
    "for stim in pickfrm:\n",
    "    if stim != test1_face_image:\n",
    "        foil1_fc = stim\n",
    "\n",
    "for stim in pickfrm:\n",
    "    if (stim != test1_face_image) and (stim != foil1_fc):\n",
    "        foil2_fc = stim"
   ]
  },
  {
   "cell_type": "code",
   "execution_count": 18,
   "metadata": {},
   "outputs": [
    {
     "data": {
      "text/plain": [
       "'m_fear/43M_FE_O.BMP'"
      ]
     },
     "execution_count": 18,
     "metadata": {},
     "output_type": "execute_result"
    }
   ],
   "source": [
    "foil1_fc"
   ]
  },
  {
   "cell_type": "code",
   "execution_count": 2,
   "metadata": {},
   "outputs": [
    {
     "ename": "AttributeError",
     "evalue": "'DataFrame' object has no attribute 'stimFile'",
     "output_type": "error",
     "traceback": [
      "\u001b[1;31m---------------------------------------------------------------------------\u001b[0m",
      "\u001b[1;31mAttributeError\u001b[0m                            Traceback (most recent call last)",
      "\u001b[1;32m<ipython-input-2-abf49a10bfa4>\u001b[0m in \u001b[0;36m<module>\u001b[1;34m\u001b[0m\n\u001b[0;32m      4\u001b[0m \u001b[0mObject_csv\u001b[0m \u001b[1;33m=\u001b[0m \u001b[0mpd\u001b[0m\u001b[1;33m.\u001b[0m\u001b[0mread_csv\u001b[0m \u001b[1;33m(\u001b[0m\u001b[1;34m'/Users/ayesh/Desktop/Gradstuff/contingentproject/mem-gen_study/memgen_images_blocks/object_code.csv'\u001b[0m\u001b[1;33m)\u001b[0m\u001b[1;33m\u001b[0m\u001b[1;33m\u001b[0m\u001b[0m\n\u001b[0;32m      5\u001b[0m \u001b[1;33m\u001b[0m\u001b[0m\n\u001b[1;32m----> 6\u001b[1;33m \u001b[0mNfaceListAll\u001b[0m \u001b[1;33m=\u001b[0m \u001b[0mNface_csv\u001b[0m\u001b[1;33m.\u001b[0m\u001b[0mstimFile\u001b[0m\u001b[1;33m\u001b[0m\u001b[1;33m\u001b[0m\u001b[0m\n\u001b[0m\u001b[0;32m      7\u001b[0m \u001b[0mEfaceListAll\u001b[0m \u001b[1;33m=\u001b[0m \u001b[0mEface_csv\u001b[0m\u001b[1;33m.\u001b[0m\u001b[0mstimFile\u001b[0m\u001b[1;33m\u001b[0m\u001b[1;33m\u001b[0m\u001b[0m\n\u001b[0;32m      8\u001b[0m \u001b[0mObjectListAll\u001b[0m \u001b[1;33m=\u001b[0m \u001b[0mObject_csv\u001b[0m\u001b[1;33m.\u001b[0m\u001b[0mObjectA\u001b[0m\u001b[1;33m\u001b[0m\u001b[1;33m\u001b[0m\u001b[0m\n",
      "\u001b[1;32m~\\Anaconda3\\lib\\site-packages\\pandas\\core\\generic.py\u001b[0m in \u001b[0;36m__getattr__\u001b[1;34m(self, name)\u001b[0m\n\u001b[0;32m   5137\u001b[0m             \u001b[1;32mif\u001b[0m \u001b[0mself\u001b[0m\u001b[1;33m.\u001b[0m\u001b[0m_info_axis\u001b[0m\u001b[1;33m.\u001b[0m\u001b[0m_can_hold_identifiers_and_holds_name\u001b[0m\u001b[1;33m(\u001b[0m\u001b[0mname\u001b[0m\u001b[1;33m)\u001b[0m\u001b[1;33m:\u001b[0m\u001b[1;33m\u001b[0m\u001b[1;33m\u001b[0m\u001b[0m\n\u001b[0;32m   5138\u001b[0m                 \u001b[1;32mreturn\u001b[0m \u001b[0mself\u001b[0m\u001b[1;33m[\u001b[0m\u001b[0mname\u001b[0m\u001b[1;33m]\u001b[0m\u001b[1;33m\u001b[0m\u001b[1;33m\u001b[0m\u001b[0m\n\u001b[1;32m-> 5139\u001b[1;33m             \u001b[1;32mreturn\u001b[0m \u001b[0mobject\u001b[0m\u001b[1;33m.\u001b[0m\u001b[0m__getattribute__\u001b[0m\u001b[1;33m(\u001b[0m\u001b[0mself\u001b[0m\u001b[1;33m,\u001b[0m \u001b[0mname\u001b[0m\u001b[1;33m)\u001b[0m\u001b[1;33m\u001b[0m\u001b[1;33m\u001b[0m\u001b[0m\n\u001b[0m\u001b[0;32m   5140\u001b[0m \u001b[1;33m\u001b[0m\u001b[0m\n\u001b[0;32m   5141\u001b[0m     \u001b[1;32mdef\u001b[0m \u001b[0m__setattr__\u001b[0m\u001b[1;33m(\u001b[0m\u001b[0mself\u001b[0m\u001b[1;33m,\u001b[0m \u001b[0mname\u001b[0m\u001b[1;33m:\u001b[0m \u001b[0mstr\u001b[0m\u001b[1;33m,\u001b[0m \u001b[0mvalue\u001b[0m\u001b[1;33m)\u001b[0m \u001b[1;33m->\u001b[0m \u001b[1;32mNone\u001b[0m\u001b[1;33m:\u001b[0m\u001b[1;33m\u001b[0m\u001b[1;33m\u001b[0m\u001b[0m\n",
      "\u001b[1;31mAttributeError\u001b[0m: 'DataFrame' object has no attribute 'stimFile'"
     ]
    }
   ],
   "source": [
    "## make random pair lists:\n",
    "Eface_csv =  pd.read_csv('/Users/ayesh/Desktop/Gradstuff/contingentproject/mem-gen_study/memgen_images_blocks/emo_code.csv')\n",
    "Nface_csv = pd.read_csv('/Users/ayesh/Desktop/Gradstuff/contingentproject/mem-gen_study/memgen_images_blocks/neu_code.csv')\n",
    "Object_csv = pd.read_csv ('/Users/ayesh/Desktop/Gradstuff/contingentproject/mem-gen_study/memgen_images_blocks/object_code.csv')\n",
    "\n",
    "NfaceListAll = Nface_csv.stimFile\n",
    "EfaceListAll = Eface_csv.stimFile\n",
    "ObjectListAll = Object_csv.ObjectA\n",
    "\n",
    "\n",
    "# randomly select 6 of each\n",
    "NfaceList = []\n",
    "EfaceList = []\n",
    "ObjectAList = []\n",
    "ObjectCList = []\n",
    "\n",
    "while len(NfaceList) < 6: \n",
    "    Nface = random.choice(NfaceListAll)\n",
    "    if not Nface in NfaceList:\n",
    "        NfaceList.append(Nface)\n",
    "\n",
    "while len(EfaceList) < 6: \n",
    "    Eface = random.choice(EfaceListAll)\n",
    "    if not Eface in EfaceList:\n",
    "        EfaceList.append(Eface)\n",
    "        \n",
    "while len(ObjectAList) < 6: \n",
    "    Object = random.choice(ObjectListAll)\n",
    "    if not Object in ObjectAList:\n",
    "        ObjectAList.append(Object)\n",
    "        \n",
    "while len(ObjectCList) < 6: \n",
    "    Object = random.choice(ObjectListAll)\n",
    "    if (not Object in ObjectAList) and (not Object in ObjectCList):\n",
    "        ObjectCList.append(Object)\n",
    "        \n",
    "randord = list(range(1, 6))\n"
   ]
  },
  {
   "cell_type": "code",
   "execution_count": 41,
   "metadata": {},
   "outputs": [],
   "source": [
    "for i in randord:\n",
    "    face = EfaceList[i]\n",
    "    objA = ObjectAList[i]\n",
    "    objC = ObjectCList[i]"
   ]
  },
  {
   "cell_type": "code",
   "execution_count": 2,
   "metadata": {},
   "outputs": [
    {
     "ename": "NameError",
     "evalue": "name 'ObjectCList' is not defined",
     "output_type": "error",
     "traceback": [
      "\u001b[1;31m---------------------------------------------------------------------------\u001b[0m",
      "\u001b[1;31mNameError\u001b[0m                                 Traceback (most recent call last)",
      "\u001b[1;32m<ipython-input-2-1750ae9615b7>\u001b[0m in \u001b[0;36m<module>\u001b[1;34m\u001b[0m\n\u001b[1;32m----> 1\u001b[1;33m \u001b[0mObjectCList\u001b[0m\u001b[1;33m\u001b[0m\u001b[1;33m\u001b[0m\u001b[0m\n\u001b[0m",
      "\u001b[1;31mNameError\u001b[0m: name 'ObjectCList' is not defined"
     ]
    }
   ],
   "source": [
    "ObjectCList"
   ]
  },
  {
   "cell_type": "code",
   "execution_count": 48,
   "metadata": {},
   "outputs": [
    {
     "data": {
      "text/plain": [
       "['best256/object_184.jpg',\n",
       " 'best256/object_024.jpg',\n",
       " 'best256/object_605.jpg',\n",
       " 'best256/object_834.jpg',\n",
       " 'best256/object_075.jpg',\n",
       " 'best256/object_136.jpg']"
      ]
     },
     "execution_count": 48,
     "metadata": {},
     "output_type": "execute_result"
    }
   ],
   "source": [
    "ObjectAList"
   ]
  },
  {
   "cell_type": "code",
   "execution_count": null,
   "metadata": {},
   "outputs": [],
   "source": [
    "import random\n",
    "import numpy as np\n",
    "\n",
    "# use psychopy's method to get a list of dictionaries\n",
    "# {'colName', 'colValue'}\n",
    "EfaceDictList = data.importConditions(\"emo_code.csv\")\n",
    "# convert to a simple list\n",
    "EfaceListAll = [x['stimFile'] for x in EfaceDictList]\n",
    "\n",
    "# randomly select 6 of these\n",
    "EfaceList = []\n",
    "while len(EfaceList) < 13: \n",
    "    rF = random.choice(EfaceListAll)\n",
    "    if not rF in EfaceList:\n",
    "        EfaceList.append(rF)\n",
    "        \n",
    "# use psychopy's method to get a list of dictionaries\n",
    "# {'colName', 'colValue'}\n",
    "NfaceDictList = data.importConditions(\"neu_code.csv\")\n",
    "# convert to a simple list\n",
    "NfaceListAll = [x['stimFile'] for x in NfaceDictList]\n",
    "\n",
    "# randomly select 6 of these\n",
    "NfaceList = []\n",
    "while len(NfaceList) < 13: \n",
    "    rF = random.choice(NfaceListAll)\n",
    "    if not rF in NfaceList:\n",
    "        NfaceList.append(rF)\n",
    "import random\n",
    "\n",
    "# use psychopy's method to get a list of dictionaries\n",
    "# {'colName', 'colValue'}\n",
    "objectDictList = data.importConditions(\"object_code.csv\")\n",
    "# convert to a simple list\n",
    "objectListAll = [x['ObjectA'] for x in objectDictList]\n",
    "\n",
    "# randomly select 6 of these\n",
    "objectList = []\n",
    "while len(objectList) < 13: \n",
    "    rF = random.choice(objectListAll)\n",
    "    if not rF in objectList:\n",
    "        objectList.append(rF)\n",
    "        \n",
    "randord = [1, 2, 3, 4, 5, 6, 7, 8, 9, 10, 11, 12]\n",
    "shuffle(randord)\n",
    "pair1n = NfaceList[randord[0]]+ objectList[randord[1]]\n",
    "pair1e = EfaceList[randord[0]]+ objectList[randord[1]]\n",
    "pair2n = NfaceList[randord[2]]+ objectList[randord[3]]\n",
    "pair2e = EfaceList[randord[2]]+ objectList[randord[3]]\n",
    "pair3n = NfaceList[randord[4]]+ objectList[randord[5]]\n",
    "pair3e = EfaceList[randord[4]]+ objectList[randord[5]]\n",
    "\n",
    "selection = []\n",
    "selectInd = 0\n",
    "selectione = [pair1e,pair2e,pair3e]\n",
    "selectionn = [pair1n,pair2n,pair3n]\n",
    "selectEmo = [\"e\",\"n\",\"e\",\"n\",\"e\",\"n\"]\n",
    "shuffle(selectEmo)\n",
    "\n",
    "listEmoInd = 0\n",
    "listNeuInd = 0\n",
    "\n",
    "for i in range(6):\n",
    " print(i)\n",
    " if selectEmo[i] == \"e\":\n",
    "  selection.append(selectione[listEmoInd])\n",
    "  listEmoInd+=1\n",
    " if selectEmo[i] == \"n\":\n",
    "  selection.append(selectionn[listNeuInd])\n",
    "  listNeuInd+=1\n",
    "        \n",
    "shuffle(selection)\n",
    "\n",
    "####################################################################################################\n",
    "\n",
    "\n",
    "import random\n",
    "import numpy as np\n",
    "\n",
    "# use psychopy's method to get a list of dictionaries\n",
    "# {'colName', 'colValue'}\n",
    "allfaceDictList = data.importConditions(\"all_faces_demo.csv\")\n",
    "# convert to a simple list\n",
    "allfaceListAll = [x['stimFile'] for x in allfaceDictList]\n",
    "\n",
    "# randomly select 6 of these\n",
    "allfaceList = []\n",
    "while len(allfaceList) < 10: \n",
    "    faceV = random.choice(allfaceListAll)\n",
    "    if not faceV in allfaceList:\n",
    "        allfaceList.append(faceV)\n",
    "        \n",
    "# use psychopy's method to get a list of dictionaries\n",
    "# {'colName', 'colValue'}\n",
    "objectDictList = data.importConditions(\"object_code.csv\")\n",
    "# convert to a simple list\n",
    "objectListAll = [x['ObjectA'] for x in objectDictList]\n",
    "\n",
    "# randomly select 6 of these\n",
    "objectAList = []\n",
    "while len(objectAList) < 10: \n",
    "    Object = random.choice(objectListAll)\n",
    "    if not Object in objectList:\n",
    "        objectAList.append(Object)\n",
    "        \n",
    "objectCList = []\n",
    "while len(objectCList) < 10: \n",
    "    Object = random.choice(objectListAll)\n",
    "    if (not Object in objectAList) and (not Object in objectCList):\n",
    "        objectCList.append(Object)\n",
    "        \n",
    "randord = list(range(1, 10))"
   ]
  }
 ],
 "metadata": {
  "kernelspec": {
   "display_name": "Python 3",
   "language": "python",
   "name": "python3"
  },
  "language_info": {
   "codemirror_mode": {
    "name": "ipython",
    "version": 3
   },
   "file_extension": ".py",
   "mimetype": "text/x-python",
   "name": "python",
   "nbconvert_exporter": "python",
   "pygments_lexer": "ipython3",
   "version": "3.8.5"
  }
 },
 "nbformat": 4,
 "nbformat_minor": 4
}
