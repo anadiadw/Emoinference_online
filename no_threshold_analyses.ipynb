{
 "cells": [
  {
   "cell_type": "code",
   "execution_count": 1,
   "metadata": {},
   "outputs": [],
   "source": [
    "import pandas as pd\n",
    "import numpy as np\n",
    "import os\n",
    "from os import listdir\n",
    "import glob\n",
    "from glob import glob\n",
    "from os.path import isfile, join\n",
    "import shutil\n",
    "import PIL\n",
    "from PIL import Image\n",
    "import random\n",
    "import scipy as sp\n",
    "from scipy import stats\n",
    "import seaborn as sns\n",
    "from matplotlib import pyplot as plt"
   ]
  },
  {
   "cell_type": "code",
   "execution_count": 65,
   "metadata": {},
   "outputs": [],
   "source": [
    "#df_folder = '/Users/ayesh/Downloads/pull/complete_data/usable/'\n",
    "df_folder = '/Users/ayesh/Downloads/Emoinference_dt/orig_exp1/complete_data/'\n",
    "\n",
    "#path = '/Users/ayesh/Desktop/Fearmap_data/rotation_project/data/'\n",
    " \n",
    "behav_files = [f for f in listdir(df_folder) if isfile(join(df_folder, f))]\n",
    "\n",
    "csv_list = []\n",
    "all_good = []\n",
    "not_usable = []\n",
    "\n",
    "for b in behav_files:\n",
    "    if b[-4:] == \".csv\":\n",
    "        csv_list.append(df_folder + b)\n",
    "        \n",
    "for a in csv_list:\n",
    "    try:\n",
    "        one_file = pd.read_csv(a, header = 0)\n",
    "        one_file.columns = one_file.columns.str.replace(\".\", \"_\")\n",
    "        fin_q = 'key_resp_33_keys'\n",
    "        #subid = 'workerID'\n",
    "        if fin_q in one_file.columns:\n",
    "            all_good.append(a)\n",
    "        else:\n",
    "            not_usable.append(one_file.workerID[0])\n",
    "    except Exception as e:\n",
    "        print(e)"
   ]
  },
  {
   "cell_type": "code",
   "execution_count": 66,
   "metadata": {},
   "outputs": [
    {
     "name": "stdout",
     "output_type": "stream",
     "text": [
      "notusable = []\n"
     ]
    }
   ],
   "source": [
    "print(\"notusable =\" , not_usable)"
   ]
  },
  {
   "cell_type": "code",
   "execution_count": 67,
   "metadata": {},
   "outputs": [],
   "source": [
    "subid = []\n",
    "avg_AB1 = []\n",
    "avg_AB2 = []\n",
    "avg_AB3 = []\n",
    "avg_BC = []\n",
    "avg_AC = []\n",
    "avg_ABfinal = []\n",
    "avg_BCfinal = []\n",
    "\n",
    "for pt_file in all_good:\n",
    "    df = pd.read_csv(pt_file, header=0)\n",
    "    df.columns = df.columns.str.replace(\".\", \"_\")\n",
    "    df.replace(r'\\s+',np.nan,regex=True).replace('',np.nan)\n",
    "    participant_name = df.workerID[0]\n",
    "    AB1corr = df.key_resp_corr\n",
    "    AB2corr = df.key_resp_2_corr\n",
    "    AB3corr = df.key_resp_3_corr\n",
    "    BCcorr = df.key_resp_4_corr\n",
    "    ACcorr = df.key_resp_5_corr\n",
    "    #finalABcorr = df.key_resp_30_corr\n",
    "    #finalBCcorr = df.key_resp_31_corr\n",
    "    #allgood_check = df.key_resp_33_keys[480]\n",
    "\n",
    "    AB1_trialresp = df.key_resp_keys\n",
    "    AB2_trialresp = df.key_resp_2_keys\n",
    "    AB3_trialresp = df.key_resp_3_keys\n",
    "    BC_trialresp = df.key_resp_4_keys\n",
    "    AC_trialresp = df.key_resp_5_keys\n",
    "    #finalAB_trialresp = df.key_resp_30_keys\n",
    "    #finalBC_trialresp = df.key_resp_31_keys\n",
    "    \n",
    "    AB1_trialresp_rt = df.key_resp_rt\n",
    "    AB2_trialresp_rt = df.key_resp_2_rt\n",
    "    AB3_trialresp_rt = df.key_resp_3_rt\n",
    "    BC_trialresp_rt = df.key_resp_4_rt\n",
    "    AC_trialresp_rt = df.key_resp_5_rt\n",
    "    #finalAB_trialresp_rt = df.key_resp_30_rt\n",
    "    #finalBC_trialresp_rt = df.key_resp_31_rt\n",
    "    \n",
    "    t_AB1trials = []\n",
    "    t_AB2trials = []\n",
    "    t_AB3trials = []\n",
    "    t_BCtrials = []\n",
    "    t_ACtrials = []\n",
    "    t_finalABtrials = []\n",
    "    t_finalBCtrials = []\n",
    "    \n",
    "    t_AB1corr = []\n",
    "    t_AB2corr = []\n",
    "    t_AB3corr = []\n",
    "    t_BCcorr = []\n",
    "    t_ACcorr = []\n",
    "    t_finalABcorr = []\n",
    "    t_finalBCcorr = []\n",
    "    \n",
    "    for index, row in df.iterrows():\n",
    "        try:\n",
    "            \n",
    "            if np.isnan(AB1_trialresp[index]) == False:\n",
    "                t_AB1trials.append(AB1_trialresp_rt[index])\n",
    "            total_AB1resp = len(t_AB1trials)/48\n",
    "\n",
    "            if AB1corr[index] == 1:\n",
    "                t_AB1corr.append(AB1_trialresp_rt[index])\n",
    "            prop_correct = len(t_AB1corr)/len(t_AB1trials)\n",
    "            #prop_correct = len(t_AB1corr)/48\n",
    "\n",
    "\n",
    "            if np.isnan(AB2_trialresp[index]) == False:\n",
    "                t_AB2trials.append(AB2_trialresp_rt[index])\n",
    "            total_AB2resp = len(t_AB2trials)/48\n",
    "\n",
    "            if AB2corr[index] == 1:\n",
    "                t_AB2corr.append(AB2_trialresp_rt[index])\n",
    "            prop_correct2 = len(t_AB2corr)/len(t_AB2trials)\n",
    "            #prop_correct2 = len(t_AB2corr)/48\n",
    "\n",
    "\n",
    "            if np.isnan(AB3_trialresp[index]) == False:\n",
    "                t_AB3trials.append(AB3_trialresp_rt[index])\n",
    "            total_AB3resp = len(t_AB3trials)/48\n",
    "\n",
    "            if AB3corr[index] == 1:\n",
    "                t_AB3corr.append(AB3_trialresp_rt[index])\n",
    "            prop_correct3 = len(t_AB3corr)/len(t_AB3trials)\n",
    "            #prop_correct3 = len(t_AB3corr)/48\n",
    "\n",
    "\n",
    "            if np.isnan(BC_trialresp[index]) == False:\n",
    "                t_BCtrials.append(BC_trialresp_rt[index])\n",
    "            total_BCresp = len(t_BCtrials)/48\n",
    "\n",
    "            if BCcorr[index] == 1:\n",
    "                t_BCcorr.append(BC_trialresp_rt[index])\n",
    "            prop_correctBC = len(t_BCcorr)/len(t_BCtrials)\n",
    "            #prop_correctBC = len(t_BCcorr)/48\n",
    "\n",
    "\n",
    "            if np.isnan(AC_trialresp[index]) == False:\n",
    "                t_ACtrials.append(AC_trialresp_rt[index])\n",
    "            total_ACresp = len(t_ACtrials)/48\n",
    "\n",
    "            if ACcorr[index] == 1:\n",
    "                t_ACcorr.append(AC_trialresp_rt[index])\n",
    "            prop_correctAC = len(t_ACcorr)/len(t_ACtrials)\n",
    "            #prop_correctAC = len(t_ACcorr)/48\n",
    "\n",
    "            if np.isnan(finalAB_trialresp[index]) == False:\n",
    "                t_finalABtrials.append(finalAB_trialresp_rt[index])\n",
    "            total_finalABresp = len(t_finalABtrials)/48\n",
    "\n",
    "            if finalABcorr[index] == 1:\n",
    "                t_finalABcorr.append(finalAB_trialresp_rt[index])\n",
    "            prop_correctfinalAB = len(t_finalABcorr)/len(t_finalABtrials)\n",
    "            #prop_correctfinalAB = len(t_finalABcorr)/48\n",
    "\n",
    "            if np.isnan(finalBC_trialresp[index]) == False:\n",
    "                t_finalBCtrials.append(finalBC_trialresp_rt[index])\n",
    "            total_finalBCresp = len(t_finalBCtrials)/48\n",
    "\n",
    "            if finalBCcorr[index] == 1:\n",
    "                t_finalBCcorr.append(finalBC_trialresp_rt[index])\n",
    "            prop_correctfinalBC = len(t_finalBCcorr)/len(t_finalBCtrials)\n",
    "            #prop_correctfinalBC = len(t_finalBCcorr)/48\n",
    "\n",
    "            \n",
    "        except:\n",
    "            pass\n",
    "        \n",
    "    subid.append(participant_name)\n",
    "    avg_AB1.append(prop_correct)\n",
    "    avg_AB2.append(prop_correct2)\n",
    "    avg_AB3.append(prop_correct3)\n",
    "    avg_BC.append(prop_correctBC)\n",
    "    avg_AC.append(prop_correctAC)\n",
    "    #avg_ABfinal.append(prop_correctfinalAB)\n",
    "    #avg_BCfinal.append(prop_correctfinalBC)"
   ]
  },
  {
   "cell_type": "code",
   "execution_count": 68,
   "metadata": {},
   "outputs": [],
   "source": [
    "###for alpha level:\n",
    "# pts = []\n",
    "\n",
    "# for pt_file in all_good:\n",
    "#     df = pd.read_csv(pt_file, header=0)\n",
    "#     df.columns = df.columns.str.replace(\".\", \"_\")\n",
    "#     df.replace(r'\\s+',np.nan,regex=True).replace('',np.nan)\n",
    "#     participant_name = df.workerID[0]\n",
    "#     AC_trialresp = df.key_resp_5_keys\n",
    "#     ACcorr = df.key_resp_5_corr\n",
    "#     ACtrials = []\n",
    "#     for index, row in df.iterrows():\n",
    "#         if np.isnan(AC_trialresp[index]) == False:\n",
    "#             pt_AC = [ACcorr[index]]\n",
    "#             ACtrials.append(pt_AC)\n",
    "#     pts.append(ACtrials)\n",
    "        \n",
    "        "
   ]
  },
  {
   "cell_type": "code",
   "execution_count": 69,
   "metadata": {},
   "outputs": [],
   "source": [
    "pts = []\n",
    "\n",
    "for pt_file in all_good:\n",
    "    df = pd.read_csv(pt_file, header=0)\n",
    "    df.columns = df.columns.str.replace(\".\", \"_\")\n",
    "    df.replace(r'\\s+',np.nan,regex=True).replace('',np.nan)\n",
    "    participant_name = df.workerID[0]\n",
    "    AC_trialresp = df.key_resp_5_keys\n",
    "    ACcorr = df.key_resp_5_corr\n",
    "    ACtrials = []\n",
    "    for index, row in df.iterrows():\n",
    "        if np.isnan(AC_trialresp[index]) == False:\n",
    "            pt_AC = [AC_trialresp[index]]\n",
    "            ACtrials.append(pt_AC)\n",
    "    pts.append(ACtrials)\n",
    "        "
   ]
  },
  {
   "cell_type": "code",
   "execution_count": 70,
   "metadata": {},
   "outputs": [
    {
     "data": {
      "text/plain": [
       "51"
      ]
     },
     "execution_count": 70,
     "metadata": {},
     "output_type": "execute_result"
    }
   ],
   "source": [
    "pts_df = pd.DataFrame(pts)\n",
    "len(pts_df)"
   ]
  },
  {
   "cell_type": "code",
   "execution_count": 71,
   "metadata": {},
   "outputs": [
    {
     "data": {
      "text/plain": [
       "6"
      ]
     },
     "execution_count": 71,
     "metadata": {},
     "output_type": "execute_result"
    }
   ],
   "source": [
    "len(ACtrials)"
   ]
  },
  {
   "cell_type": "code",
   "execution_count": 72,
   "metadata": {},
   "outputs": [],
   "source": [
    "pts_df.to_csv('/Users/ayesh/Desktop/Gradstuff/contingentproject/mem-gen_study/XY_mturk_pavlovia_data/exclusion_comparison/noexc_AC_trialthreshold_exp1.csv', index = False)"
   ]
  },
  {
   "cell_type": "code",
   "execution_count": null,
   "metadata": {},
   "outputs": [],
   "source": []
  }
 ],
 "metadata": {
  "kernelspec": {
   "display_name": "Python 3",
   "language": "python",
   "name": "python3"
  },
  "language_info": {
   "codemirror_mode": {
    "name": "ipython",
    "version": 3
   },
   "file_extension": ".py",
   "mimetype": "text/x-python",
   "name": "python",
   "nbconvert_exporter": "python",
   "pygments_lexer": "ipython3",
   "version": "3.8.5"
  }
 },
 "nbformat": 4,
 "nbformat_minor": 5
}
